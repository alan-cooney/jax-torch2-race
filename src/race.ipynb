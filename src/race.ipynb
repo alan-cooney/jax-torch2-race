{
 "cells": [
  {
   "cell_type": "markdown",
   "metadata": {},
   "source": [
    "# Benchmarking Jax vs PyTorch 2 (with compile)\n",
    "\n",
    "The aim is to investigate performance on a reasonable consumer GPU from VastAI, for the forward pass\n",
    "of GPT2."
   ]
  },
  {
   "cell_type": "code",
   "execution_count": 2,
   "metadata": {},
   "outputs": [],
   "source": [
    "# Hacky pip install for cuda on jax (won't install with Poetry)\n",
    "%pip install --upgrade \"jax[cuda12_pip]\" -f https://storage.googleapis.com/jax-releases/jax_cuda_releases.html"
   ]
  },
  {
   "cell_type": "markdown",
   "metadata": {},
   "source": [
    "## Model Setup"
   ]
  },
  {
   "cell_type": "code",
   "execution_count": 3,
   "metadata": {},
   "outputs": [
    {
     "ename": "ImportError",
     "evalue": "\nFlaxGPT2Model requires the FLAX library but it was not found in your environment. Checkout the instructions on the\ninstallation page: https://github.com/google/flax and follow the ones that match your environment.\nPlease note that you may need to restart your runtime after installation.\n",
     "output_type": "error",
     "traceback": [
      "\u001b[0;31m---------------------------------------------------------------------------\u001b[0m",
      "\u001b[0;31mImportError\u001b[0m                               Traceback (most recent call last)",
      "\u001b[1;32m/root/jax-torch2-race/src/race.ipynb Cell 4\u001b[0m line \u001b[0;36m8\n\u001b[1;32m      <a href='vscode-notebook-cell://ssh-remote%2Bssh4.vast.ai/root/jax-torch2-race/src/race.ipynb#W2sdnNjb2RlLXJlbW90ZQ%3D%3D?line=5'>6</a>\u001b[0m \u001b[39m# Create the models\u001b[39;00m\n\u001b[1;32m      <a href='vscode-notebook-cell://ssh-remote%2Bssh4.vast.ai/root/jax-torch2-race/src/race.ipynb#W2sdnNjb2RlLXJlbW90ZQ%3D%3D?line=6'>7</a>\u001b[0m config \u001b[39m=\u001b[39m GPT2Config()\n\u001b[0;32m----> <a href='vscode-notebook-cell://ssh-remote%2Bssh4.vast.ai/root/jax-torch2-race/src/race.ipynb#W2sdnNjb2RlLXJlbW90ZQ%3D%3D?line=7'>8</a>\u001b[0m jax_model \u001b[39m=\u001b[39m FlaxGPT2Model(config)\n\u001b[1;32m      <a href='vscode-notebook-cell://ssh-remote%2Bssh4.vast.ai/root/jax-torch2-race/src/race.ipynb#W2sdnNjb2RlLXJlbW90ZQ%3D%3D?line=8'>9</a>\u001b[0m pt_model \u001b[39m=\u001b[39m GPT2Model(config)\n\u001b[1;32m     <a href='vscode-notebook-cell://ssh-remote%2Bssh4.vast.ai/root/jax-torch2-race/src/race.ipynb#W2sdnNjb2RlLXJlbW90ZQ%3D%3D?line=10'>11</a>\u001b[0m \u001b[39m# Move models to CUDA & compile\u001b[39;00m\n",
      "File \u001b[0;32m~/jax-torch2-race/.venv/lib/python3.10/site-packages/transformers/utils/dummy_flax_objects.py:751\u001b[0m, in \u001b[0;36mFlaxGPT2Model.__init__\u001b[0;34m(self, *args, **kwargs)\u001b[0m\n\u001b[1;32m    750\u001b[0m \u001b[39mdef\u001b[39;00m \u001b[39m__init__\u001b[39m(\u001b[39mself\u001b[39m, \u001b[39m*\u001b[39margs, \u001b[39m*\u001b[39m\u001b[39m*\u001b[39mkwargs):\n\u001b[0;32m--> 751\u001b[0m     requires_backends(\u001b[39mself\u001b[39;49m, [\u001b[39m\"\u001b[39;49m\u001b[39mflax\u001b[39;49m\u001b[39m\"\u001b[39;49m])\n",
      "File \u001b[0;32m~/jax-torch2-race/.venv/lib/python3.10/site-packages/transformers/utils/import_utils.py:1210\u001b[0m, in \u001b[0;36mrequires_backends\u001b[0;34m(obj, backends)\u001b[0m\n\u001b[1;32m   1208\u001b[0m failed \u001b[39m=\u001b[39m [msg\u001b[39m.\u001b[39mformat(name) \u001b[39mfor\u001b[39;00m available, msg \u001b[39min\u001b[39;00m checks \u001b[39mif\u001b[39;00m \u001b[39mnot\u001b[39;00m available()]\n\u001b[1;32m   1209\u001b[0m \u001b[39mif\u001b[39;00m failed:\n\u001b[0;32m-> 1210\u001b[0m     \u001b[39mraise\u001b[39;00m \u001b[39mImportError\u001b[39;00m(\u001b[39m\"\u001b[39m\u001b[39m\"\u001b[39m\u001b[39m.\u001b[39mjoin(failed))\n",
      "\u001b[0;31mImportError\u001b[0m: \nFlaxGPT2Model requires the FLAX library but it was not found in your environment. Checkout the instructions on the\ninstallation page: https://github.com/google/flax and follow the ones that match your environment.\nPlease note that you may need to restart your runtime after installation.\n"
     ]
    }
   ],
   "source": [
    "from transformers import FlaxGPT2Model, GPT2Model, GPT2Config\n",
    "import time\n",
    "import jax\n",
    "import torch\n",
    "\n",
    "# Create the models\n",
    "config = GPT2Config()\n",
    "jax_model = FlaxGPT2Model(config)\n",
    "pt_model = GPT2Model(config)\n",
    "\n",
    "# Move models to CUDA & compile\n",
    "print(jax.devices())\n",
    "# jax_model = jax_model.cuda()\n",
    "# pt_model = pt_model.cuda()\n",
    "# torch.compile(pt_model)"
   ]
  },
  {
   "cell_type": "code",
   "execution_count": null,
   "metadata": {},
   "outputs": [],
   "source": [
    "jax_inputs = []\n",
    "pt_inputs = []\n",
    "\n",
    "sample_size: int = 10\n",
    "for _ in range(sample_size):\n",
    "    jax_input = jax.random.randint(\n",
    "        jax.random.PRNGKey(0), (1, 1024), 0, config.vocab_size\n",
    "    )\n",
    "    jax_inputs.append(jax_input)\n",
    "\n",
    "    pt_input = torch.randint(0, config.vocab_size, (1, 1024))\n",
    "    pt_inputs.append(pt_input)"
   ]
  },
  {
   "cell_type": "code",
   "execution_count": null,
   "metadata": {},
   "outputs": [],
   "source": [
    "for model_name in [\"jax\", \"pt\"]:\n",
    "    start = time.time()\n",
    "\n",
    "    for i in range(sample_size):\n",
    "        inputs = jax_inputs[i] if model_name == \"jax\" else pt_inputs[i]\n",
    "        model = jax_model if model_name == \"jax\" else pt_model\n",
    "        model(inputs)\n",
    "\n",
    "    print(f\"{model} took {time.time() - start:.2f}s\")"
   ]
  }
 ],
 "metadata": {
  "kernelspec": {
   "display_name": ".venv",
   "language": "python",
   "name": "python3"
  },
  "language_info": {
   "codemirror_mode": {
    "name": "ipython",
    "version": 3
   },
   "file_extension": ".py",
   "mimetype": "text/x-python",
   "name": "python",
   "nbconvert_exporter": "python",
   "pygments_lexer": "ipython3",
   "version": "3.10.13"
  }
 },
 "nbformat": 4,
 "nbformat_minor": 2
}
