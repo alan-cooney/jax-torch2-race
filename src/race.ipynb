{
 "cells": [
  {
   "cell_type": "markdown",
   "metadata": {},
   "source": [
    "# Benchmarking Jax vs PyTorch 2 (with compile)\n",
    "\n",
    "The aim is to investigate performance on a reasonable consumer GPU from VastAI, for the forward pass\n",
    "of GPT2."
   ]
  },
  {
   "cell_type": "markdown",
   "metadata": {},
   "source": [
    "## Model Setup"
   ]
  },
  {
   "cell_type": "code",
   "execution_count": 1,
   "metadata": {},
   "outputs": [],
   "source": [
    "from transformers import FlaxGPT2Model, GPT2Model, GPT2Config\n",
    "import time\n",
    "import jax\n",
    "import torch\n",
    "\n",
    "# Create the models\n",
    "config = GPT2Config()\n",
    "jax_model = FlaxGPT2Model(config)\n",
    "pt_model = GPT2Model(config)\n",
    "\n",
    "# Move models to CUDA & compile\n",
    "# Note you have to install the gpu version of jax (`poetry add jax[cuda12_pip]`)\n",
    "# jax_model = jax_model.cuda()\n",
    "# pt_model = pt_model.cuda()\n",
    "# torch.compile(pt_model)"
   ]
  },
  {
   "cell_type": "code",
   "execution_count": 5,
   "metadata": {},
   "outputs": [],
   "source": [
    "jax_inputs = []\n",
    "pt_inputs = []\n",
    "\n",
    "sample_size: int = 10\n",
    "for _ in range(sample_size):\n",
    "    jax_input = jax.random.randint(\n",
    "        jax.random.PRNGKey(0), (1, 1024), 0, config.vocab_size\n",
    "    )\n",
    "    jax_inputs.append(jax_input)\n",
    "\n",
    "    pt_input = torch.randint(0, config.vocab_size, (1, 1024))\n",
    "    pt_inputs.append(pt_input)"
   ]
  },
  {
   "cell_type": "code",
   "execution_count": 7,
   "metadata": {},
   "outputs": [
    {
     "name": "stdout",
     "output_type": "stream",
     "text": [
      "GPT2Model(\n",
      "  (wte): Embedding(50257, 768)\n",
      "  (wpe): Embedding(1024, 768)\n",
      "  (drop): Dropout(p=0.1, inplace=False)\n",
      "  (h): ModuleList(\n",
      "    (0-11): 12 x GPT2Block(\n",
      "      (ln_1): LayerNorm((768,), eps=1e-05, elementwise_affine=True)\n",
      "      (attn): GPT2Attention(\n",
      "        (c_attn): Conv1D()\n",
      "        (c_proj): Conv1D()\n",
      "        (attn_dropout): Dropout(p=0.1, inplace=False)\n",
      "        (resid_dropout): Dropout(p=0.1, inplace=False)\n",
      "      )\n",
      "      (ln_2): LayerNorm((768,), eps=1e-05, elementwise_affine=True)\n",
      "      (mlp): GPT2MLP(\n",
      "        (c_fc): Conv1D()\n",
      "        (c_proj): Conv1D()\n",
      "        (act): NewGELUActivation()\n",
      "        (dropout): Dropout(p=0.1, inplace=False)\n",
      "      )\n",
      "    )\n",
      "  )\n",
      "  (ln_f): LayerNorm((768,), eps=1e-05, elementwise_affine=True)\n",
      ") took 10.85s\n",
      "GPT2Model(\n",
      "  (wte): Embedding(50257, 768)\n",
      "  (wpe): Embedding(1024, 768)\n",
      "  (drop): Dropout(p=0.1, inplace=False)\n",
      "  (h): ModuleList(\n",
      "    (0-11): 12 x GPT2Block(\n",
      "      (ln_1): LayerNorm((768,), eps=1e-05, elementwise_affine=True)\n",
      "      (attn): GPT2Attention(\n",
      "        (c_attn): Conv1D()\n",
      "        (c_proj): Conv1D()\n",
      "        (attn_dropout): Dropout(p=0.1, inplace=False)\n",
      "        (resid_dropout): Dropout(p=0.1, inplace=False)\n",
      "      )\n",
      "      (ln_2): LayerNorm((768,), eps=1e-05, elementwise_affine=True)\n",
      "      (mlp): GPT2MLP(\n",
      "        (c_fc): Conv1D()\n",
      "        (c_proj): Conv1D()\n",
      "        (act): NewGELUActivation()\n",
      "        (dropout): Dropout(p=0.1, inplace=False)\n",
      "      )\n",
      "    )\n",
      "  )\n",
      "  (ln_f): LayerNorm((768,), eps=1e-05, elementwise_affine=True)\n",
      ") took 10.90s\n"
     ]
    }
   ],
   "source": [
    "for model_name in [\"jax\", \"pt\"]:\n",
    "    start = time.time()\n",
    "\n",
    "    for i in range(sample_size):\n",
    "        inputs = jax_inputs[i] if model_name == \"jax\" else pt_inputs[i]\n",
    "        model = jax_model if model_name == \"jax\" else pt_model\n",
    "        model(inputs)\n",
    "\n",
    "    print(f\"{model} took {time.time() - start:.2f}s\")"
   ]
  }
 ],
 "metadata": {
  "kernelspec": {
   "display_name": ".venv",
   "language": "python",
   "name": "python3"
  },
  "language_info": {
   "codemirror_mode": {
    "name": "ipython",
    "version": 3
   },
   "file_extension": ".py",
   "mimetype": "text/x-python",
   "name": "python",
   "nbconvert_exporter": "python",
   "pygments_lexer": "ipython3",
   "version": "3.11.6"
  }
 },
 "nbformat": 4,
 "nbformat_minor": 2
}
