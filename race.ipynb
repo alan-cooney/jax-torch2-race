{
 "cells": [
  {
   "cell_type": "markdown",
   "metadata": {},
   "source": [
    "# Benchmarking Jax vs PyTorch 2 (with compile)\n",
    "\n",
    "The aim is to investigate performance on a reasonable consumer GPU from VastAI, for the forward pass\n",
    "of GPT2."
   ]
  },
  {
   "cell_type": "code",
   "execution_count": 1,
   "metadata": {},
   "outputs": [
    {
     "name": "stdout",
     "output_type": "stream",
     "text": [
      "Found existing installation: jax 0.4.19\n",
      "Uninstalling jax-0.4.19:\n",
      "  Successfully uninstalled jax-0.4.19\n",
      "Note: you may need to restart the kernel to use updated packages.\n",
      "Looking in links: https://storage.googleapis.com/jax-releases/jax_cuda_releases.html\n",
      "Collecting jax[cuda12_pip]\n",
      "  Using cached jax-0.4.19-py3-none-any.whl.metadata (23 kB)\n",
      "\u001b[33mWARNING: jax 0.4.19 does not provide the extra 'cuda12-pip'\u001b[0m\u001b[33m\n",
      "\u001b[0mRequirement already satisfied: ml-dtypes>=0.2.0 in ./.venv/lib/python3.10/site-packages (from jax[cuda12_pip]) (0.3.1)\n",
      "Requirement already satisfied: numpy>=1.22 in ./.venv/lib/python3.10/site-packages (from jax[cuda12_pip]) (1.26.1)\n",
      "Requirement already satisfied: opt-einsum in ./.venv/lib/python3.10/site-packages (from jax[cuda12_pip]) (3.3.0)\n",
      "Requirement already satisfied: scipy>=1.9 in ./.venv/lib/python3.10/site-packages (from jax[cuda12_pip]) (1.11.3)\n",
      "Requirement already satisfied: jaxlib==0.4.19+cuda12.cudnn89 in ./.venv/lib/python3.10/site-packages (from jax[cuda12_pip]) (0.4.19+cuda12.cudnn89)\n",
      "Requirement already satisfied: nvidia-cublas-cu12>=12.2.5.6 in ./.venv/lib/python3.10/site-packages (from jax[cuda12_pip]) (12.3.2.9)\n",
      "Requirement already satisfied: nvidia-cuda-cupti-cu12>=12.2.142 in ./.venv/lib/python3.10/site-packages (from jax[cuda12_pip]) (12.3.52)\n",
      "Requirement already satisfied: nvidia-cuda-nvcc-cu12>=12.2.140 in ./.venv/lib/python3.10/site-packages (from jax[cuda12_pip]) (12.3.52)\n",
      "Requirement already satisfied: nvidia-cuda-runtime-cu12>=12.2.140 in ./.venv/lib/python3.10/site-packages (from jax[cuda12_pip]) (12.3.52)\n",
      "Requirement already satisfied: nvidia-cudnn-cu12>=8.9 in ./.venv/lib/python3.10/site-packages (from jax[cuda12_pip]) (8.9.4.25)\n",
      "Requirement already satisfied: nvidia-cufft-cu12>=11.0.8.103 in ./.venv/lib/python3.10/site-packages (from jax[cuda12_pip]) (11.0.11.19)\n",
      "Requirement already satisfied: nvidia-cusolver-cu12>=11.5.2 in ./.venv/lib/python3.10/site-packages (from jax[cuda12_pip]) (11.5.3.52)\n",
      "Requirement already satisfied: nvidia-cusparse-cu12>=12.1.2.141 in ./.venv/lib/python3.10/site-packages (from jax[cuda12_pip]) (12.1.3.153)\n",
      "Requirement already satisfied: nvidia-nccl-cu12>=2.18.3 in ./.venv/lib/python3.10/site-packages (from jax[cuda12_pip]) (2.19.3)\n",
      "Requirement already satisfied: nvidia-nvjitlink-cu12>=12.2 in ./.venv/lib/python3.10/site-packages (from jax[cuda12_pip]) (12.3.52)\n",
      "Requirement already satisfied: nvidia-cuda-nvrtc-cu12 in ./.venv/lib/python3.10/site-packages (from nvidia-cudnn-cu12>=8.9->jax[cuda12_pip]) (12.3.52)\n",
      "Using cached jax-0.4.19-py3-none-any.whl (1.7 MB)\n",
      "Installing collected packages: jax\n",
      "Successfully installed jax-0.4.19\n",
      "Note: you may need to restart the kernel to use updated packages.\n"
     ]
    }
   ],
   "source": [
    "# Hacky pip install for cuda on jax (won't install with Poetry)\n",
    "%pip uninstall jax -y\n",
    "%pip install --upgrade \"jax[cuda12_pip]\" -f https://storage.googleapis.com/jax-releases/jax_cuda_releases.html\n",
    "\n",
    "# Install CUDA Compat\n",
    "%sudo apt-get install -y cuda-compat-12-1"
   ]
  },
  {
   "cell_type": "markdown",
   "metadata": {},
   "source": [
    "## Model Setup"
   ]
  },
  {
   "cell_type": "code",
   "execution_count": 11,
   "metadata": {},
   "outputs": [
    {
     "name": "stdout",
     "output_type": "stream",
     "text": [
      "[cuda(id=0)]\n"
     ]
    }
   ],
   "source": [
    "from transformers import FlaxGPT2Model, GPT2Model, GPT2Config\n",
    "import time\n",
    "import jax\n",
    "import torch\n",
    "\n",
    "# Create the models\n",
    "config = GPT2Config()\n",
    "jax_model = FlaxGPT2Model(config)\n",
    "pt_model = GPT2Model(config)\n",
    "\n",
    "# Move models to CUDA & compile\n",
    "print(jax.devices())\n",
    "pt_model = pt_model.cuda()\n",
    "torch.compile(pt_model)\n",
    "\n",
    "jax_forward = jax.jit(jax_model.__call__)"
   ]
  },
  {
   "cell_type": "code",
   "execution_count": 12,
   "metadata": {},
   "outputs": [],
   "source": [
    "jax_inputs = []\n",
    "pt_inputs = []\n",
    "\n",
    "sample_size: int = 10\n",
    "for _ in range(sample_size):\n",
    "    jax_input = jax.random.randint(\n",
    "        jax.random.PRNGKey(0), (1, 1024), 0, config.vocab_size\n",
    "    )\n",
    "    jax_inputs.append(jax_input)\n",
    "\n",
    "    pt_input = torch.randint(0, config.vocab_size, (1, 1024)).cuda()\n",
    "    pt_inputs.append(pt_input)"
   ]
  },
  {
   "cell_type": "code",
   "execution_count": 13,
   "metadata": {},
   "outputs": [
    {
     "name": "stdout",
     "output_type": "stream",
     "text": [
      "jax took 6.09s\n",
      "pt took 0.15s\n"
     ]
    }
   ],
   "source": [
    "for model_name in [\"jax\", \"pt\"]:\n",
    "    start = time.time()\n",
    "\n",
    "    for i in range(sample_size):\n",
    "        inputs = jax_inputs[i] if model_name == \"jax\" else pt_inputs[i]\n",
    "        model = jax_forward if model_name == \"jax\" else pt_model\n",
    "        model(inputs)\n",
    "\n",
    "    print(f\"{model_name} took {time.time() - start:.2f}s\")"
   ]
  }
 ],
 "metadata": {
  "kernelspec": {
   "display_name": ".venv",
   "language": "python",
   "name": "python3"
  },
  "language_info": {
   "codemirror_mode": {
    "name": "ipython",
    "version": 3
   },
   "file_extension": ".py",
   "mimetype": "text/x-python",
   "name": "python",
   "nbconvert_exporter": "python",
   "pygments_lexer": "ipython3",
   "version": "3.10.13"
  }
 },
 "nbformat": 4,
 "nbformat_minor": 2
}
